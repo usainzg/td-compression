{
 "cells": [
  {
   "cell_type": "code",
   "execution_count": 7,
   "metadata": {},
   "outputs": [],
   "source": [
    "import torch\n",
    "import tensorly as tl\n",
    "from tensorly.decomposition import partial_tucker\n",
    "from tltorch import FactorizedConv\n",
    "import tltorch\n",
    "import numpy as np\n",
    "import sys\n",
    "sys.path.append('../src/td-comp/')\n",
    "tl.set_backend('pytorch')"
   ]
  },
  {
   "cell_type": "code",
   "execution_count": 14,
   "metadata": {},
   "outputs": [],
   "source": [
    "from models import vgg"
   ]
  },
  {
   "cell_type": "code",
   "execution_count": 9,
   "metadata": {},
   "outputs": [],
   "source": [
    "def count_params(net: torch.nn.Module) -> np.array:\n",
    "    return sum(p.numel() for p in net.parameters() if p.requires_grad)"
   ]
  },
  {
   "cell_type": "code",
   "execution_count": 28,
   "metadata": {},
   "outputs": [],
   "source": [
    "model = vgg.VGG('VGG11')"
   ]
  },
  {
   "cell_type": "code",
   "execution_count": 29,
   "metadata": {},
   "outputs": [
    {
     "name": "stdout",
     "output_type": "stream",
     "text": [
      "Number of parameters (before): 9231114\n"
     ]
    }
   ],
   "source": [
    "n_param = count_params(model)\n",
    "print(f'Number of parameters (before): {n_param}')"
   ]
  },
  {
   "cell_type": "code",
   "execution_count": 30,
   "metadata": {},
   "outputs": [
    {
     "data": {
      "text/plain": [
       "VGG(\n",
       "  (features): Sequential(\n",
       "    (0): Conv2d(3, 64, kernel_size=(3, 3), stride=(1, 1), padding=(1, 1))\n",
       "    (1): BatchNorm2d(64, eps=1e-05, momentum=0.1, affine=True, track_running_stats=True)\n",
       "    (2): ReLU(inplace=True)\n",
       "    (3): MaxPool2d(kernel_size=2, stride=2, padding=0, dilation=1, ceil_mode=False)\n",
       "    (4): Conv2d(64, 128, kernel_size=(3, 3), stride=(1, 1), padding=(1, 1))\n",
       "    (5): BatchNorm2d(128, eps=1e-05, momentum=0.1, affine=True, track_running_stats=True)\n",
       "    (6): ReLU(inplace=True)\n",
       "    (7): MaxPool2d(kernel_size=2, stride=2, padding=0, dilation=1, ceil_mode=False)\n",
       "    (8): Conv2d(128, 256, kernel_size=(3, 3), stride=(1, 1), padding=(1, 1))\n",
       "    (9): BatchNorm2d(256, eps=1e-05, momentum=0.1, affine=True, track_running_stats=True)\n",
       "    (10): ReLU(inplace=True)\n",
       "    (11): Conv2d(256, 256, kernel_size=(3, 3), stride=(1, 1), padding=(1, 1))\n",
       "    (12): BatchNorm2d(256, eps=1e-05, momentum=0.1, affine=True, track_running_stats=True)\n",
       "    (13): ReLU(inplace=True)\n",
       "    (14): MaxPool2d(kernel_size=2, stride=2, padding=0, dilation=1, ceil_mode=False)\n",
       "    (15): Conv2d(256, 512, kernel_size=(3, 3), stride=(1, 1), padding=(1, 1))\n",
       "    (16): BatchNorm2d(512, eps=1e-05, momentum=0.1, affine=True, track_running_stats=True)\n",
       "    (17): ReLU(inplace=True)\n",
       "    (18): Conv2d(512, 512, kernel_size=(3, 3), stride=(1, 1), padding=(1, 1))\n",
       "    (19): BatchNorm2d(512, eps=1e-05, momentum=0.1, affine=True, track_running_stats=True)\n",
       "    (20): ReLU(inplace=True)\n",
       "    (21): MaxPool2d(kernel_size=2, stride=2, padding=0, dilation=1, ceil_mode=False)\n",
       "    (22): Conv2d(512, 512, kernel_size=(3, 3), stride=(1, 1), padding=(1, 1))\n",
       "    (23): BatchNorm2d(512, eps=1e-05, momentum=0.1, affine=True, track_running_stats=True)\n",
       "    (24): ReLU(inplace=True)\n",
       "    (25): Conv2d(512, 512, kernel_size=(3, 3), stride=(1, 1), padding=(1, 1))\n",
       "    (26): BatchNorm2d(512, eps=1e-05, momentum=0.1, affine=True, track_running_stats=True)\n",
       "    (27): ReLU(inplace=True)\n",
       "    (28): MaxPool2d(kernel_size=2, stride=2, padding=0, dilation=1, ceil_mode=False)\n",
       "    (29): AvgPool2d(kernel_size=1, stride=1, padding=0)\n",
       "  )\n",
       "  (classifier): Linear(in_features=512, out_features=10, bias=True)\n",
       ")"
      ]
     },
     "execution_count": 30,
     "metadata": {},
     "output_type": "execute_result"
    }
   ],
   "source": [
    "model"
   ]
  },
  {
   "cell_type": "code",
   "execution_count": 33,
   "metadata": {},
   "outputs": [
    {
     "name": "stdout",
     "output_type": "stream",
     "text": [
      "factorizing: features.4\n",
      "factorizing: features.8\n",
      "factorizing: features.11\n",
      "factorizing: features.15\n",
      "factorizing: features.18\n",
      "factorizing: features.22\n",
      "factorizing: features.25\n",
      "Number of parameters (after): 6922095\n"
     ]
    }
   ],
   "source": [
    "import copy\n",
    "\n",
    "factorization = 'tucker'\n",
    "rank = 0.75\n",
    "decompose_weights = True\n",
    "td_init = not decompose_weights\n",
    "\n",
    "decomposition_kwargs = {'init': 'random'} if factorization == 'cp' else {}\n",
    "fixed_rank_modes = 'spatial' if factorization == 'tucker' else None\n",
    "\n",
    "fact_model = copy.deepcopy(model)\n",
    "\n",
    "for i, (name, module) in enumerate(model.named_modules()):\n",
    "    if type(module) == torch.nn.modules.conv.Conv2d:\n",
    "        if name == 'features.0':\n",
    "            # Skip first layer\n",
    "            continue\n",
    "        print(f'factorizing: {name}')\n",
    "        fact_layer = tltorch.FactorizedConv.from_conv(\n",
    "            module, \n",
    "            rank=rank, \n",
    "            decompose_weights=decompose_weights, \n",
    "            factorization=factorization,\n",
    "            fixed_rank_modes=fixed_rank_modes,\n",
    "            decomposition_kwargs=decomposition_kwargs,\n",
    "        )\n",
    "        if td_init:\n",
    "            fact_layer.weight.normal_(0, td_init)\n",
    "        layer, block = name.split('.')\n",
    "        conv_to_replace = getattr(fact_model, layer)\n",
    "        setattr(conv_to_replace, block, fact_layer)\n",
    "        \n",
    "n_param_fact = count_params(fact_model)\n",
    "print(f'Number of parameters (after): {n_param_fact}')"
   ]
  },
  {
   "cell_type": "code",
   "execution_count": 34,
   "metadata": {},
   "outputs": [
    {
     "data": {
      "text/plain": [
       "VGG(\n",
       "  (features): Sequential(\n",
       "    (0): Conv2d(3, 64, kernel_size=(3, 3), stride=(1, 1), padding=(1, 1))\n",
       "    (1): BatchNorm2d(64, eps=1e-05, momentum=0.1, affine=True, track_running_stats=True)\n",
       "    (2): ReLU(inplace=True)\n",
       "    (3): MaxPool2d(kernel_size=2, stride=2, padding=0, dilation=1, ceil_mode=False)\n",
       "    (4): FactorizedConv(\n",
       "      in_channels=64, out_channels=128, kernel_size=(3, 3), rank=(94, 47, 3, 3), order=2, padding=[1, 1], \n",
       "      (weight): TuckerTensor(shape=(128, 64, 3, 3), rank=(94, 47, 3, 3))\n",
       "    )\n",
       "    (5): BatchNorm2d(128, eps=1e-05, momentum=0.1, affine=True, track_running_stats=True)\n",
       "    (6): ReLU(inplace=True)\n",
       "    (7): MaxPool2d(kernel_size=2, stride=2, padding=0, dilation=1, ceil_mode=False)\n",
       "    (8): FactorizedConv(\n",
       "      in_channels=128, out_channels=256, kernel_size=(3, 3), rank=(189, 94, 3, 3), order=2, padding=[1, 1], \n",
       "      (weight): TuckerTensor(shape=(256, 128, 3, 3), rank=(189, 94, 3, 3))\n",
       "    )\n",
       "    (9): BatchNorm2d(256, eps=1e-05, momentum=0.1, affine=True, track_running_stats=True)\n",
       "    (10): ReLU(inplace=True)\n",
       "    (11): FactorizedConv(\n",
       "      in_channels=256, out_channels=256, kernel_size=(3, 3), rank=(195, 195, 3, 3), order=2, padding=[1, 1], \n",
       "      (weight): TuckerTensor(shape=(256, 256, 3, 3), rank=(195, 195, 3, 3))\n",
       "    )\n",
       "    (12): BatchNorm2d(256, eps=1e-05, momentum=0.1, affine=True, track_running_stats=True)\n",
       "    (13): ReLU(inplace=True)\n",
       "    (14): MaxPool2d(kernel_size=2, stride=2, padding=0, dilation=1, ceil_mode=False)\n",
       "    (15): FactorizedConv(\n",
       "      in_channels=256, out_channels=512, kernel_size=(3, 3), rank=(378, 189, 3, 3), order=2, padding=[1, 1], \n",
       "      (weight): TuckerTensor(shape=(512, 256, 3, 3), rank=(378, 189, 3, 3))\n",
       "    )\n",
       "    (16): BatchNorm2d(512, eps=1e-05, momentum=0.1, affine=True, track_running_stats=True)\n",
       "    (17): ReLU(inplace=True)\n",
       "    (18): FactorizedConv(\n",
       "      in_channels=512, out_channels=512, kernel_size=(3, 3), rank=(390, 390, 3, 3), order=2, padding=[1, 1], \n",
       "      (weight): TuckerTensor(shape=(512, 512, 3, 3), rank=(390, 390, 3, 3))\n",
       "    )\n",
       "    (19): BatchNorm2d(512, eps=1e-05, momentum=0.1, affine=True, track_running_stats=True)\n",
       "    (20): ReLU(inplace=True)\n",
       "    (21): MaxPool2d(kernel_size=2, stride=2, padding=0, dilation=1, ceil_mode=False)\n",
       "    (22): FactorizedConv(\n",
       "      in_channels=512, out_channels=512, kernel_size=(3, 3), rank=(390, 390, 3, 3), order=2, padding=[1, 1], \n",
       "      (weight): TuckerTensor(shape=(512, 512, 3, 3), rank=(390, 390, 3, 3))\n",
       "    )\n",
       "    (23): BatchNorm2d(512, eps=1e-05, momentum=0.1, affine=True, track_running_stats=True)\n",
       "    (24): ReLU(inplace=True)\n",
       "    (25): FactorizedConv(\n",
       "      in_channels=512, out_channels=512, kernel_size=(3, 3), rank=(390, 390, 3, 3), order=2, padding=[1, 1], \n",
       "      (weight): TuckerTensor(shape=(512, 512, 3, 3), rank=(390, 390, 3, 3))\n",
       "    )\n",
       "    (26): BatchNorm2d(512, eps=1e-05, momentum=0.1, affine=True, track_running_stats=True)\n",
       "    (27): ReLU(inplace=True)\n",
       "    (28): MaxPool2d(kernel_size=2, stride=2, padding=0, dilation=1, ceil_mode=False)\n",
       "    (29): AvgPool2d(kernel_size=1, stride=1, padding=0)\n",
       "  )\n",
       "  (classifier): Linear(in_features=512, out_features=10, bias=True)\n",
       ")"
      ]
     },
     "execution_count": 34,
     "metadata": {},
     "output_type": "execute_result"
    }
   ],
   "source": [
    "fact_model"
   ]
  },
  {
   "cell_type": "code",
   "execution_count": 35,
   "metadata": {},
   "outputs": [
    {
     "name": "stdout",
     "output_type": "stream",
     "text": [
      "original number of parameters: 9231114\n",
      "factorized number of parameters: 6922095\n",
      "before - after: 2309019\n",
      "compression ratio: 1.33\n"
     ]
    }
   ],
   "source": [
    "print(f'original number of parameters: {n_param}')\n",
    "print(f'factorized number of parameters: {n_param_fact}')\n",
    "print(f'before - after: {n_param - n_param_fact}')\n",
    "print(f'compression ratio: {n_param / n_param_fact:.2f}')"
   ]
  }
 ],
 "metadata": {
  "kernelspec": {
   "display_name": "tdcomp1",
   "language": "python",
   "name": "python3"
  },
  "language_info": {
   "codemirror_mode": {
    "name": "ipython",
    "version": 3
   },
   "file_extension": ".py",
   "mimetype": "text/x-python",
   "name": "python",
   "nbconvert_exporter": "python",
   "pygments_lexer": "ipython3",
   "version": "3.10.9"
  },
  "orig_nbformat": 4
 },
 "nbformat": 4,
 "nbformat_minor": 2
}

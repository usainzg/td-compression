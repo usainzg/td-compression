{
 "cells": [
  {
   "cell_type": "code",
   "execution_count": 24,
   "metadata": {},
   "outputs": [
    {
     "name": "stdout",
     "output_type": "stream",
     "text": [
      "The autoreload extension is already loaded. To reload it, use:\n",
      "  %reload_ext autoreload\n"
     ]
    }
   ],
   "source": [
    "import torch\n",
    "import tensorly as tl\n",
    "from tensorly.decomposition import partial_tucker\n",
    "from tltorch import FactorizedConv\n",
    "from torchvision.models import vgg11\n",
    "import tltorch\n",
    "import numpy as np\n",
    "import sys\n",
    "sys.path.append('../src/')\n",
    "tl.set_backend('pytorch')\n",
    "\n",
    "%load_ext autoreload\n",
    "%autoreload 2"
   ]
  },
  {
   "cell_type": "code",
   "execution_count": 25,
   "metadata": {},
   "outputs": [],
   "source": [
    "from models import vgg\n",
    "from utils import factorizations"
   ]
  },
  {
   "cell_type": "code",
   "execution_count": 26,
   "metadata": {},
   "outputs": [],
   "source": [
    "def count_params(net: torch.nn.Module) -> np.array:\n",
    "    return sum(p.numel() for p in net.parameters() if p.requires_grad)"
   ]
  },
  {
   "cell_type": "code",
   "execution_count": 54,
   "metadata": {},
   "outputs": [
    {
     "name": "stderr",
     "output_type": "stream",
     "text": [
      "/home/usainzg/miniconda3/envs/tdcomp1/lib/python3.10/site-packages/torchvision/models/_utils.py:223: UserWarning: Arguments other than a weight enum or `None` for 'weights' are deprecated since 0.13 and may be removed in the future. The current behavior is equivalent to passing `weights=VGG11_Weights.IMAGENET1K_V1`. You can also use `weights=VGG11_Weights.DEFAULT` to get the most up-to-date weights.\n",
      "  warnings.warn(msg)\n"
     ]
    }
   ],
   "source": [
    "#model = vgg.VGG('VGG11')\n",
    "model = vgg11(weights=True)\n",
    "input_lastLayer = model.classifier[6].in_features\n",
    "model.classifier[6] = torch.nn.Linear(input_lastLayer, 10)"
   ]
  },
  {
   "cell_type": "code",
   "execution_count": 55,
   "metadata": {},
   "outputs": [
    {
     "name": "stdout",
     "output_type": "stream",
     "text": [
      "Number of parameters (before): 128807306\n"
     ]
    }
   ],
   "source": [
    "n_param = count_params(model)\n",
    "print(f'Number of parameters (before): {n_param}')"
   ]
  },
  {
   "cell_type": "code",
   "execution_count": 56,
   "metadata": {},
   "outputs": [
    {
     "data": {
      "text/plain": [
       "VGG(\n",
       "  (features): Sequential(\n",
       "    (0): Conv2d(3, 64, kernel_size=(3, 3), stride=(1, 1), padding=(1, 1))\n",
       "    (1): ReLU(inplace=True)\n",
       "    (2): MaxPool2d(kernel_size=2, stride=2, padding=0, dilation=1, ceil_mode=False)\n",
       "    (3): Conv2d(64, 128, kernel_size=(3, 3), stride=(1, 1), padding=(1, 1))\n",
       "    (4): ReLU(inplace=True)\n",
       "    (5): MaxPool2d(kernel_size=2, stride=2, padding=0, dilation=1, ceil_mode=False)\n",
       "    (6): Conv2d(128, 256, kernel_size=(3, 3), stride=(1, 1), padding=(1, 1))\n",
       "    (7): ReLU(inplace=True)\n",
       "    (8): Conv2d(256, 256, kernel_size=(3, 3), stride=(1, 1), padding=(1, 1))\n",
       "    (9): ReLU(inplace=True)\n",
       "    (10): MaxPool2d(kernel_size=2, stride=2, padding=0, dilation=1, ceil_mode=False)\n",
       "    (11): Conv2d(256, 512, kernel_size=(3, 3), stride=(1, 1), padding=(1, 1))\n",
       "    (12): ReLU(inplace=True)\n",
       "    (13): Conv2d(512, 512, kernel_size=(3, 3), stride=(1, 1), padding=(1, 1))\n",
       "    (14): ReLU(inplace=True)\n",
       "    (15): MaxPool2d(kernel_size=2, stride=2, padding=0, dilation=1, ceil_mode=False)\n",
       "    (16): Conv2d(512, 512, kernel_size=(3, 3), stride=(1, 1), padding=(1, 1))\n",
       "    (17): ReLU(inplace=True)\n",
       "    (18): Conv2d(512, 512, kernel_size=(3, 3), stride=(1, 1), padding=(1, 1))\n",
       "    (19): ReLU(inplace=True)\n",
       "    (20): MaxPool2d(kernel_size=2, stride=2, padding=0, dilation=1, ceil_mode=False)\n",
       "  )\n",
       "  (avgpool): AdaptiveAvgPool2d(output_size=(7, 7))\n",
       "  (classifier): Sequential(\n",
       "    (0): Linear(in_features=25088, out_features=4096, bias=True)\n",
       "    (1): ReLU(inplace=True)\n",
       "    (2): Dropout(p=0.5, inplace=False)\n",
       "    (3): Linear(in_features=4096, out_features=4096, bias=True)\n",
       "    (4): ReLU(inplace=True)\n",
       "    (5): Dropout(p=0.5, inplace=False)\n",
       "    (6): Linear(in_features=4096, out_features=10, bias=True)\n",
       "  )\n",
       ")"
      ]
     },
     "execution_count": 56,
     "metadata": {},
     "output_type": "execute_result"
    }
   ],
   "source": [
    "model"
   ]
  },
  {
   "cell_type": "code",
   "execution_count": 57,
   "metadata": {},
   "outputs": [
    {
     "name": "stdout",
     "output_type": "stream",
     "text": [
      "factorizing: features.3\n",
      "factorizing: features.6\n",
      "factorizing: features.8\n",
      "factorizing: features.11\n",
      "factorizing: features.13\n",
      "factorizing: features.16\n",
      "factorizing: features.18\n",
      "factorizing: classifier.0\n",
      "factorizing: classifier.3\n",
      "factorizing: classifier.6\n",
      "Number of parameters (after): 90791421\n"
     ]
    }
   ],
   "source": [
    "import copy\n",
    "\n",
    "factorization = 'tucker'\n",
    "rank = 0.75\n",
    "vbmf = False\n",
    "decompose_weights = True\n",
    "td_init = not decompose_weights\n",
    "\n",
    "decomposition_kwargs = {'init': 'random'} if factorization == 'cp' else {}\n",
    "fixed_rank_modes = 'spatial' if factorization == 'tucker' else None\n",
    "fact_model = copy.deepcopy(model)\n",
    "\n",
    "for i, (name, module) in enumerate(model.named_modules()):\n",
    "    if type(module) == torch.nn.modules.conv.Conv2d:\n",
    "        if name == 'features.0':\n",
    "            # Skip first layer\n",
    "            continue\n",
    "        print(f'factorizing: {name}')\n",
    "        \n",
    "        if vbmf:\n",
    "            ranks = factorizations.estimate_ranks(module)\n",
    "        elif rank is not None:\n",
    "            ranks = rank\n",
    "        else:\n",
    "            weights = module.weight.data\n",
    "            ranks = [weights.shape[0]//3, weights.shape[1]//3, weights.shape[2], weights.shape[3]]\n",
    "        \n",
    "        fact_layer = tltorch.FactorizedConv.from_conv(\n",
    "            module, \n",
    "            rank=ranks, \n",
    "            decompose_weights=decompose_weights, \n",
    "            factorization=factorization,\n",
    "            fixed_rank_modes=fixed_rank_modes,\n",
    "            decomposition_kwargs=decomposition_kwargs,\n",
    "        )\n",
    "        \n",
    "        if td_init:\n",
    "            fact_layer.weight.normal_(0, td_init)\n",
    "        layer, block = name.split('.')\n",
    "        conv_to_replace = getattr(fact_model, layer)\n",
    "        setattr(conv_to_replace, block, fact_layer)\n",
    "    if type(module) == torch.nn.modules.linear.Linear:\n",
    "        print(f'factorizing: {name}')\n",
    "        fact_layer = tltorch.FactorizedLinear.from_linear(\n",
    "            module, \n",
    "            n_tensorized_modes=3,\n",
    "            rank=rank,\n",
    "            factorization=factorization,\n",
    "            decomposition_kwargs=decomposition_kwargs\n",
    "        )\n",
    "        layer, block = name.split('.')\n",
    "        lin_to_replace = getattr(fact_model, layer)\n",
    "        setattr(lin_to_replace, block, fact_layer)\n",
    "        \n",
    "n_param_fact = count_params(fact_model)\n",
    "print(f'Number of parameters (after): {n_param_fact}')"
   ]
  },
  {
   "cell_type": "code",
   "execution_count": 58,
   "metadata": {},
   "outputs": [
    {
     "data": {
      "text/plain": [
       "VGG(\n",
       "  (features): Sequential(\n",
       "    (0): Conv2d(3, 64, kernel_size=(3, 3), stride=(1, 1), padding=(1, 1))\n",
       "    (1): ReLU(inplace=True)\n",
       "    (2): MaxPool2d(kernel_size=2, stride=2, padding=0, dilation=1, ceil_mode=False)\n",
       "    (3): FactorizedConv(\n",
       "      in_channels=64, out_channels=128, kernel_size=(3, 3), rank=(94, 47, 3, 3), order=2, padding=[1, 1], \n",
       "      (weight): TuckerTensor(shape=(128, 64, 3, 3), rank=(94, 47, 3, 3))\n",
       "    )\n",
       "    (4): ReLU(inplace=True)\n",
       "    (5): MaxPool2d(kernel_size=2, stride=2, padding=0, dilation=1, ceil_mode=False)\n",
       "    (6): FactorizedConv(\n",
       "      in_channels=128, out_channels=256, kernel_size=(3, 3), rank=(189, 94, 3, 3), order=2, padding=[1, 1], \n",
       "      (weight): TuckerTensor(shape=(256, 128, 3, 3), rank=(189, 94, 3, 3))\n",
       "    )\n",
       "    (7): ReLU(inplace=True)\n",
       "    (8): FactorizedConv(\n",
       "      in_channels=256, out_channels=256, kernel_size=(3, 3), rank=(195, 195, 3, 3), order=2, padding=[1, 1], \n",
       "      (weight): TuckerTensor(shape=(256, 256, 3, 3), rank=(195, 195, 3, 3))\n",
       "    )\n",
       "    (9): ReLU(inplace=True)\n",
       "    (10): MaxPool2d(kernel_size=2, stride=2, padding=0, dilation=1, ceil_mode=False)\n",
       "    (11): FactorizedConv(\n",
       "      in_channels=256, out_channels=512, kernel_size=(3, 3), rank=(378, 189, 3, 3), order=2, padding=[1, 1], \n",
       "      (weight): TuckerTensor(shape=(512, 256, 3, 3), rank=(378, 189, 3, 3))\n",
       "    )\n",
       "    (12): ReLU(inplace=True)\n",
       "    (13): FactorizedConv(\n",
       "      in_channels=512, out_channels=512, kernel_size=(3, 3), rank=(390, 390, 3, 3), order=2, padding=[1, 1], \n",
       "      (weight): TuckerTensor(shape=(512, 512, 3, 3), rank=(390, 390, 3, 3))\n",
       "    )\n",
       "    (14): ReLU(inplace=True)\n",
       "    (15): MaxPool2d(kernel_size=2, stride=2, padding=0, dilation=1, ceil_mode=False)\n",
       "    (16): FactorizedConv(\n",
       "      in_channels=512, out_channels=512, kernel_size=(3, 3), rank=(390, 390, 3, 3), order=2, padding=[1, 1], \n",
       "      (weight): TuckerTensor(shape=(512, 512, 3, 3), rank=(390, 390, 3, 3))\n",
       "    )\n",
       "    (17): ReLU(inplace=True)\n",
       "    (18): FactorizedConv(\n",
       "      in_channels=512, out_channels=512, kernel_size=(3, 3), rank=(390, 390, 3, 3), order=2, padding=[1, 1], \n",
       "      (weight): TuckerTensor(shape=(512, 512, 3, 3), rank=(390, 390, 3, 3))\n",
       "    )\n",
       "    (19): ReLU(inplace=True)\n",
       "    (20): MaxPool2d(kernel_size=2, stride=2, padding=0, dilation=1, ceil_mode=False)\n",
       "  )\n",
       "  (avgpool): AdaptiveAvgPool2d(output_size=(7, 7))\n",
       "  (classifier): Sequential(\n",
       "    (0): FactorizedLinear(in_features=25088, out_features=4096, weight of size (4096, 25088) tensorized to ((16, 16, 16), (16, 28, 56)),factorization=Tucker, rank=[15, 15, 15, 15, 27, 53], implementation=reconstructed, with a single layer parametrized, \n",
       "    (1): ReLU(inplace=True)\n",
       "    (2): Dropout(p=0.5, inplace=False)\n",
       "    (3): FactorizedLinear(in_features=4096, out_features=4096, weight of size (4096, 4096) tensorized to ((16, 16, 16), (16, 16, 16)),factorization=Tucker, rank=[15, 15, 15, 15, 15, 15], implementation=reconstructed, with a single layer parametrized, \n",
       "    (4): ReLU(inplace=True)\n",
       "    (5): Dropout(p=0.5, inplace=False)\n",
       "    (6): FactorizedLinear(in_features=4096, out_features=10, weight of size (10, 4096) tensorized to ((2, 5), (16, 256)),factorization=Tucker, rank=[1, 2, 7, 113], implementation=reconstructed, with a single layer parametrized, \n",
       "  )\n",
       ")"
      ]
     },
     "execution_count": 58,
     "metadata": {},
     "output_type": "execute_result"
    }
   ],
   "source": [
    "fact_model"
   ]
  },
  {
   "cell_type": "code",
   "execution_count": 59,
   "metadata": {},
   "outputs": [
    {
     "name": "stdout",
     "output_type": "stream",
     "text": [
      "original number of parameters: 128807306\n",
      "factorized number of parameters: 90791421\n",
      "before - after: 38015885\n",
      "compression ratio: 1.42\n"
     ]
    }
   ],
   "source": [
    "print(f'original number of parameters: {n_param}')\n",
    "print(f'factorized number of parameters: {n_param_fact}')\n",
    "print(f'before - after: {n_param - n_param_fact}')\n",
    "print(f'compression ratio: {n_param / n_param_fact:.2f}')"
   ]
  },
  {
   "cell_type": "code",
   "execution_count": null,
   "metadata": {},
   "outputs": [],
   "source": []
  },
  {
   "cell_type": "code",
   "execution_count": null,
   "metadata": {},
   "outputs": [],
   "source": []
  }
 ],
 "metadata": {
  "kernelspec": {
   "display_name": "tdcomp1",
   "language": "python",
   "name": "python3"
  },
  "language_info": {
   "codemirror_mode": {
    "name": "ipython",
    "version": 3
   },
   "file_extension": ".py",
   "mimetype": "text/x-python",
   "name": "python",
   "nbconvert_exporter": "python",
   "pygments_lexer": "ipython3",
   "version": "3.10.9"
  },
  "orig_nbformat": 4
 },
 "nbformat": 4,
 "nbformat_minor": 2
}
